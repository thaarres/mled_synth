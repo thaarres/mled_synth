{
 "cells": [
  {
   "cell_type": "code",
   "execution_count": null,
   "id": "be85f031",
   "metadata": {},
   "outputs": [],
   "source": [
    "import tensorflow as tf\n",
    "from tensorflow import keras\n",
    "import qkeras\n",
    "import numpy as np\n",
    "from qkeras.utils import _add_supported_quantized_objects\n",
    "co = {}\n",
    "_add_supported_quantized_objects(co)\n",
    "from tensorflow.keras.models import load_model\n",
    "\n",
    "import hls4ml\n",
    "import hls4ml.utils\n",
    "import hls4ml.converters\n",
    "from hls4ml.model.profiling import numerical, get_ymodel_keras\n",
    "from hls4ml.model.optimizer.passes.qkeras import OutputRoundingSaturationMode\n",
    "\n",
    "import tensorflow as tf\n",
    "from tensorflow_model_optimization.sparsity.keras import strip_pruning\n",
    "\n",
    "import json\n",
    "\n",
    "import os\n",
    "\n",
    "# Append Vitis HLS 2024.1 bin directory to PATH\n",
    "os.environ['PATH'] += ':/opt/Xilinx/Vitis_HLS/2024.1/bin'\n",
    "\n",
    "# start on the server jupyter notebook --no-browser --port=8080 --NotebookApp.token='' --NotebookApp.password='' in the conde env\n",
    "# run ssh -L 8080:localhost:8080 hlssynt-07.cern.ch"
   ]
  },
  {
   "cell_type": "code",
   "execution_count": null,
   "id": "0cd4baaf",
   "metadata": {},
   "outputs": [],
   "source": [
    "# get data\n",
    "data = np.load(\"testData_200keV_1000samples_unnormalized.npz\", allow_pickle=True)\n",
    "input_images = data[\"input_images\"]\n",
    "labels = data[\"labels\"]"
   ]
  },
  {
   "cell_type": "code",
   "execution_count": null,
   "id": "758ec469",
   "metadata": {},
   "outputs": [],
   "source": [
    "import numpy as np\n",
    "import matplotlib.pyplot as plt\n",
    "# Flatten all pixel values into one array\n",
    "pixel_values = input_images.flatten()\n",
    "\n",
    "# Plot histogram\n",
    "plt.figure(figsize=(8, 4))\n",
    "plt.hist(pixel_values, bins=range(int(pixel_values.min()), int(pixel_values.max()) + 2), color='skyblue', edgecolor='black')\n",
    "plt.title(\"Histogram of Pixel Values\")\n",
    "plt.xlabel(\"Pixel Value\")\n",
    "plt.ylabel(\"Frequency\")\n",
    "plt.semilogy()\n",
    "plt.grid(True)\n",
    "plt.tight_layout()\n",
    "plt.show()"
   ]
  },
  {
   "cell_type": "code",
   "execution_count": null,
   "id": "155d096b",
   "metadata": {},
   "outputs": [],
   "source": [
    "# add custom loss\n",
    "def l2_loss(y_true, y_pred):\n",
    "    return tf.reduce_mean(tf.square(y_pred - y_true))\n",
    "co[\"Custom>l2_loss\"] = l2_loss"
   ]
  },
  {
   "cell_type": "code",
   "execution_count": null,
   "id": "5a27265f",
   "metadata": {},
   "outputs": [],
   "source": [
    "model = load_model(\"inception_GlobalMaxPool_may26.h5\", custom_objects=co)\n",
    "# model = strip_pruning(model)"
   ]
  },
  {
   "cell_type": "code",
   "execution_count": null,
   "id": "d4a3a93b",
   "metadata": {},
   "outputs": [],
   "source": [
    "config = hls4ml.utils.config_from_keras_model(model, granularity='name', backend='Vitis', default_precision='ap_ufixed<17,7,AP_RND,AP_SAT>')\n",
    "config['Model']['ReuseFactor'] = 1\n",
    "config['Model']['Strategy'] = \"Latency\"\n",
    "input_precision = 'ap_ufixed<17,7,AP_RND,AP_SAT>'\n",
    "config['LayerName']['image_input']['Precision']['result'] = input_precision\n",
    "config['Flows'] = ['vitis:fifo_depth_optimization']\n",
    "hls4ml.model.optimizer.get_optimizer('vitis:fifo_depth_optimization').configure(profiling_fifo_depth=200_000)\n",
    "config['LayerName']['image_input']['Precision']['result'] = input_precision"
   ]
  },
  {
   "cell_type": "code",
   "execution_count": null,
   "id": "acc2ac43",
   "metadata": {},
   "outputs": [],
   "source": [
    "hmodel = hls4ml.converters.convert_from_keras_model(\n",
    "    model,\n",
    "    hls_config=config,\n",
    "    backend='Vitis',\n",
    "    output_dir='version1',\n",
    "    io_type='io_stream',\n",
    "    part='xcvu47p-fsvh2892-2L-e'\n",
    ")"
   ]
  },
  {
   "cell_type": "code",
   "execution_count": null,
   "id": "b981564b",
   "metadata": {},
   "outputs": [],
   "source": [
    "numerical(model=model, hls_model=hmodel)"
   ]
  },
  {
   "cell_type": "code",
   "execution_count": null,
   "id": "694eef46",
   "metadata": {},
   "outputs": [],
   "source": [
    "hmodel.compile()\n",
    "pred_hls = hmodel.predict(input_images)"
   ]
  },
  {
   "cell_type": "code",
   "execution_count": null,
   "id": "c2c03a1e",
   "metadata": {},
   "outputs": [],
   "source": [
    "pred_qkeras = model.predict(input_images)"
   ]
  },
  {
   "cell_type": "code",
   "execution_count": null,
   "id": "c2ac51d9",
   "metadata": {},
   "outputs": [],
   "source": [
    "import numpy as np\n",
    "import matplotlib.pyplot as plt\n",
    "\n",
    "for name, pr in zip([\"qkeras\", \"hls4ml\"], [pred_qkeras, pred_hls]):\n",
    "    diff = labels - pr\n",
    "    rmse = np.sqrt(np.mean(diff**2))\n",
    "    print(name, rmse)\n",
    "\n",
    "    # Plot the predictions vs. true labels\n",
    "    plt.figure(figsize=(8, 5))\n",
    "    plt.scatter(labels, pr, alpha=0.5, label=f'Prediction ({name})')\n",
    "    plt.plot([labels.min(), labels.max()], [labels.min(), labels.max()], 'k--', lw=2, label='Ideal')\n",
    "    plt.xlabel(\"True Labels\")\n",
    "    plt.ylabel(f\"Predicted ({name})\")\n",
    "    plt.title(f\"True vs. Predicted for {name}\")\n",
    "    plt.legend()\n",
    "    plt.grid(True)\n",
    "    plt.tight_layout()\n",
    "    plt.show()\n",
    "\n",
    "# Plotting the residuals for both models\n",
    "plt.figure(figsize=(8, 5))\n",
    "plt.hist(labels - pred_qkeras, bins=50, alpha=0.5, label='Residuals (qkeras)')\n",
    "plt.hist(labels - pred_hls, bins=50, alpha=0.5, label='Residuals (hls4ml)')\n",
    "plt.xlabel(\"Residual (True - Predicted)\")\n",
    "plt.ylabel(\"Frequency\")\n",
    "plt.title(\"Residual Distribution\")\n",
    "plt.legend()\n",
    "plt.grid(True)\n",
    "plt.tight_layout()\n",
    "plt.show()"
   ]
  },
  {
   "cell_type": "code",
   "execution_count": null,
   "id": "d807f9d6",
   "metadata": {},
   "outputs": [],
   "source": [
    "hmodel.compile()"
   ]
  },
  {
   "cell_type": "code",
   "execution_count": null,
   "id": "33ed8b84",
   "metadata": {},
   "outputs": [],
   "source": []
  },
  {
   "cell_type": "code",
   "execution_count": null,
   "id": "65a8fc92",
   "metadata": {},
   "outputs": [],
   "source": []
  },
  {
   "cell_type": "code",
   "execution_count": null,
   "id": "b3b09f54",
   "metadata": {},
   "outputs": [],
   "source": []
  }
 ],
 "metadata": {
  "kernelspec": {
   "display_name": "hls4ml-mled",
   "language": "python",
   "name": "python3"
  },
  "language_info": {
   "codemirror_mode": {
    "name": "ipython",
    "version": 3
   },
   "file_extension": ".py",
   "mimetype": "text/x-python",
   "name": "python",
   "nbconvert_exporter": "python",
   "pygments_lexer": "ipython3",
   "version": "3.10.16"
  }
 },
 "nbformat": 4,
 "nbformat_minor": 5
}
